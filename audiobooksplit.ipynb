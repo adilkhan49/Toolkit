{
 "cells": [
  {
   "cell_type": "code",
   "execution_count": 1,
   "metadata": {},
   "outputs": [],
   "source": [
    "import pydub\n",
    "import os\n",
    "import matplotlib.pyplot as plt\n",
    "import numpy as np\n",
    "import wave\n",
    "import sys"
   ]
  },
  {
   "cell_type": "code",
   "execution_count": 3,
   "metadata": {},
   "outputs": [],
   "source": [
    "def splitter(path,n_splits,name='Audiobook'):\n",
    "    mp3 = pydub.AudioSegment.from_file(path)\n",
    " #   sound.export('temp.mp3',format='mp3')\n",
    " #   mp3=pydub.AudioSegment.from_file('temp.mp3')\n",
    "#    mp3=pydub.AudioSegment.from_file(path)\n",
    "  #  mp3=sound\n",
    "    segment = int(len(mp3)/n_splits)\n",
    "    starts = [int(len(mp3)/n_splits)*i for i in range(n_splits)]\n",
    "    split = [mp3[i*segment:(i+1)*segment] for i in range(n_splits)]\n",
    "\n",
    "    for i,k in enumerate(split):\n",
    "        k.export(name+' CD %d.mp3' %(i+1))"
   ]
  },
  {
   "cell_type": "code",
   "execution_count": 97,
   "metadata": {},
   "outputs": [],
   "source": [
    "splitter('part2.m4a', 18, 'Cien años de soledad Part 2')"
   ]
  },
  {
   "cell_type": "code",
   "execution_count": 98,
   "metadata": {},
   "outputs": [],
   "source": [
    "splitter('asturias.mp3',4)"
   ]
  },
  {
   "cell_type": "code",
   "execution_count": 92,
   "metadata": {},
   "outputs": [
    {
     "data": {
      "text/plain": [
       "<_io.BufferedRandom name='hi.mp3'>"
      ]
     },
     "execution_count": 92,
     "metadata": {},
     "output_type": "execute_result"
    }
   ],
   "source": [
    "sound=pydub.AudioSegment.from_file('part2.m4a')\n",
    "sound[-20000:].export('hi.mp3')"
   ]
  }
 ],
 "metadata": {
  "kernelspec": {
   "display_name": "Python 3",
   "language": "python",
   "name": "python3"
  },
  "language_info": {
   "codemirror_mode": {
    "name": "ipython",
    "version": 3
   },
   "file_extension": ".py",
   "mimetype": "text/x-python",
   "name": "python",
   "nbconvert_exporter": "python",
   "pygments_lexer": "ipython3",
   "version": "3.6.4"
  }
 },
 "nbformat": 4,
 "nbformat_minor": 2
}
