{
 "cells": [
  {
   "cell_type": "markdown",
   "metadata": {},
   "source": [
    "# Web Scraping the Daily Mail Archives with Selenium Firefox"
   ]
  },
  {
   "cell_type": "markdown",
   "metadata": {},
   "source": [
    "Author: Adil Khan"
   ]
  },
  {
   "cell_type": "code",
   "execution_count": 1,
   "metadata": {},
   "outputs": [
    {
     "name": "stderr",
     "output_type": "stream",
     "text": [
      "/Users/Adil/anaconda3/lib/python3.6/site-packages/nltk/twitter/__init__.py:20: UserWarning: The twython library has not been installed. Some functionality from the twitter package will not be available.\n",
      "  warnings.warn(\"The twython library has not been installed. \"\n"
     ]
    }
   ],
   "source": [
    "from selenium import webdriver\n",
    "from selenium.webdriver.common.keys import Keys\n",
    "import time\n",
    "import os\n",
    "import re\n",
    "import pandas as pd\n",
    "from tqdm import tqdm_notebook as tqdm\n",
    "from nltk.sentiment.vader import SentimentIntensityAnalyzer"
   ]
  },
  {
   "cell_type": "markdown",
   "metadata": {},
   "source": [
    "### Create browser profile"
   ]
  },
  {
   "cell_type": "code",
   "execution_count": 2,
   "metadata": {},
   "outputs": [],
   "source": [
    "## Get profile class\n",
    "from selenium.webdriver.firefox.firefox_profile import FirefoxProfile\n",
    "## get the Firefox profile object\n",
    "firefoxProfile = FirefoxProfile()\n",
    "## Disable CSS\n",
    "firefoxProfile.set_preference('permissions.default.stylesheet', 2)\n",
    "## Disable images\n",
    "firefoxProfile.set_preference('permissions.default.image', 2)\n",
    "## Disable JavaScript\n",
    "firefoxProfile.set_preference('javascript.enabled', False)\n",
    "## Disable Flash\n",
    "firefoxProfile.set_preference('dom.ipc.plugins.enabled.libflashplayer.so','false')\n",
    "## Adblock path\n",
    "adblock ='/Users/Adil/Library/Application Support/Firefox/Profiles/3if0ne0t.default/extensions/{d10d0bf8-f5b5-c8b4-a8b2-2b9879e08c5d}.xpi'"
   ]
  },
  {
   "cell_type": "markdown",
   "metadata": {},
   "source": [
    "### Input date"
   ]
  },
  {
   "cell_type": "code",
   "execution_count": 3,
   "metadata": {},
   "outputs": [],
   "source": [
    "year ='2017'\n",
    "month ='01'\n",
    "day = '05'\n",
    "\n",
    "path = 'http://www.dailymail.co.uk/home/sitemaparchive/day_'+year+month+day+'.html'"
   ]
  },
  {
   "cell_type": "markdown",
   "metadata": {},
   "source": [
    "### Define functions"
   ]
  },
  {
   "cell_type": "code",
   "execution_count": 4,
   "metadata": {},
   "outputs": [],
   "source": [
    "def openbrowser():\n",
    "    global browser\n",
    "    browser = webdriver.Firefox(firefoxProfile)\n",
    "    browser.install_addon(adblock, temporary=True)\n",
    "    time.sleep(10)\n",
    "    browser.switch_to_window(browser.window_handles[0])\n",
    "    browser.get(path)\n",
    "\n",
    "\n",
    "def sentiment(text):   \n",
    "    sid = SentimentIntensityAnalyzer()\n",
    "    return [sid.polarity_scores(sentence)['compound'] for sentence in text]\n",
    "\n",
    "numReg = re.compile(r'\\d+')\n",
    "\n",
    "name = 'Dailymail_'+ numReg.search(path).group() +'.csv'\n",
    "def save():\n",
    "    df.to_csv(name)"
   ]
  },
  {
   "cell_type": "markdown",
   "metadata": {},
   "source": [
    "### Open browser"
   ]
  },
  {
   "cell_type": "code",
   "execution_count": 5,
   "metadata": {},
   "outputs": [],
   "source": [
    "openbrowser()"
   ]
  },
  {
   "cell_type": "markdown",
   "metadata": {},
   "source": [
    "### Get list of articles"
   ]
  },
  {
   "cell_type": "code",
   "execution_count": 6,
   "metadata": {},
   "outputs": [],
   "source": [
    "x=browser.find_element_by_xpath('//*[@id=\"content\"]/div[1]/div[1]/ul[2]')\n",
    "titles=x.text.split('\\n')\n",
    "num_titles = len(titles)"
   ]
  },
  {
   "cell_type": "markdown",
   "metadata": {},
   "source": [
    "### Create Database. Perform sentiment analysis"
   ]
  },
  {
   "cell_type": "code",
   "execution_count": 7,
   "metadata": {},
   "outputs": [],
   "source": [
    "df = pd.DataFrame({'Title':titles,'Sentiment':sentiment(titles), 'Shares':None,'Comments':None, 'Genre':None, 'Author':None})"
   ]
  },
  {
   "cell_type": "markdown",
   "metadata": {},
   "source": [
    "### Save dataframe to csv"
   ]
  },
  {
   "cell_type": "code",
   "execution_count": null,
   "metadata": {},
   "outputs": [],
   "source": [
    "save()"
   ]
  },
  {
   "cell_type": "markdown",
   "metadata": {},
   "source": [
    "### Open link i, download metadata, go back"
   ]
  },
  {
   "cell_type": "code",
   "execution_count": null,
   "metadata": {},
   "outputs": [
    {
     "data": {
      "application/vnd.jupyter.widget-view+json": {
       "model_id": "e2a28c713fcb47139d646e8c1fd68af3",
       "version_major": 2,
       "version_minor": 0
      },
      "text/html": [
       "<p>Failed to display Jupyter Widget of type <code>HBox</code>.</p>\n",
       "<p>\n",
       "  If you're reading this message in the Jupyter Notebook or JupyterLab Notebook, it may mean\n",
       "  that the widgets JavaScript is still loading. If this message persists, it\n",
       "  likely means that the widgets JavaScript library is either not installed or\n",
       "  not enabled. See the <a href=\"https://ipywidgets.readthedocs.io/en/stable/user_install.html\">Jupyter\n",
       "  Widgets Documentation</a> for setup instructions.\n",
       "</p>\n",
       "<p>\n",
       "  If you're reading this message in another frontend (for example, a static\n",
       "  rendering on GitHub or <a href=\"https://nbviewer.jupyter.org/\">NBViewer</a>),\n",
       "  it may mean that your frontend doesn't currently support widgets.\n",
       "</p>\n"
      ],
      "text/plain": [
       "HBox(children=(IntProgress(value=0, max=1000), HTML(value='')))"
      ]
     },
     "metadata": {},
     "output_type": "display_data"
    },
    {
     "name": "stderr",
     "output_type": "stream",
     "text": [
      "/Users/Adil/anaconda3/lib/python3.6/site-packages/pandas/core/indexing.py:194: SettingWithCopyWarning: \n",
      "A value is trying to be set on a copy of a slice from a DataFrame\n",
      "\n",
      "See the caveats in the documentation: http://pandas.pydata.org/pandas-docs/stable/indexing.html#indexing-view-versus-copy\n",
      "  self._setitem_with_indexer(indexer, value)\n"
     ]
    }
   ],
   "source": [
    "#Extract the first 1000 articles or all articles, whichever is lesser\n",
    "for i in tqdm(range(min(1000,num_titles))):\n",
    "    g,a,s,c = [None]*4\n",
    "\n",
    "#Click on link i. If it is less than 15 characters, then pass\n",
    "    try:\n",
    "        browser.find_element_by_partial_link_text(titles[i][5:15]).click()\n",
    "    except:\n",
    "        pass\n",
    "\n",
    "#Extract genre if available\n",
    "    try:\n",
    "        g = browser.find_element_by_xpath('//span[@class=\"link-wocc linkro-wocc\"]').text\n",
    "    except:\n",
    "        g=None    \n",
    "        \n",
    "#Extract author name if available\n",
    "    try:\n",
    "        a = browser.find_element_by_class_name('author').text\n",
    "    except:\n",
    "        a=None    \n",
    "\n",
    "#Extract share count if available\n",
    "    try:\n",
    "        shares = browser.find_element_by_class_name('share-count').text\n",
    "        s=int(numReg.search(shares).group())\n",
    "    except:\n",
    "        s=None\n",
    "#Extract comment count if available\n",
    "    try:\n",
    "        comments = browser.find_element_by_class_name('count-number').text\n",
    "        c=int(numReg.search(comments).group())\n",
    "    except:\n",
    "        c=None\n",
    "        \n",
    "#Insert into dataframe\n",
    "    df['Genre'].iloc[i]=g\n",
    "    df['Author'].iloc[i]=a\n",
    "    df['Shares'].iloc[i]=s\n",
    "    df['Comments'].iloc[i]=c\n",
    "    \n",
    "#Go back or reload page if connection has failed\n",
    "    try:\n",
    "        browser.back()\n",
    "    except:\n",
    "        openbrowser()\n",
    "        \n",
    "#Save after every 25 iterations\n",
    "    if i%25==0:\n",
    "        save()\n",
    "save()"
   ]
  }
 ],
 "metadata": {
  "kernelspec": {
   "display_name": "Python 3",
   "language": "python",
   "name": "python3"
  },
  "language_info": {
   "codemirror_mode": {
    "name": "ipython",
    "version": 3
   },
   "file_extension": ".py",
   "mimetype": "text/x-python",
   "name": "python",
   "nbconvert_exporter": "python",
   "pygments_lexer": "ipython3",
   "version": "3.6.4"
  }
 },
 "nbformat": 4,
 "nbformat_minor": 2
}
